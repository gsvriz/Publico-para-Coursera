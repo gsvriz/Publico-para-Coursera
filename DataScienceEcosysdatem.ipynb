{
 "cells": [
  {
   "cell_type": "markdown",
   "id": "6ae7a730-6844-4b69-91ac-6ba0fd04754a",
   "metadata": {},
   "source": [
    "# Data Science Tools and Ecosystem"
   ]
  },
  {
   "cell_type": "markdown",
   "id": "1769da56-efd3-4934-817e-7b5b0d2b9945",
   "metadata": {},
   "source": [
    "In this notebook, Data Science Tools and Ecosystem are summarized."
   ]
  },
  {
   "cell_type": "markdown",
   "id": "88a71c3c-9d05-4084-adeb-966d470da248",
   "metadata": {
    "tags": []
   },
   "source": [
    "**Objectives:**\n",
    "* List popular languages for Data Science\n",
    "* Some of the most common languages in data science \n",
    "* The most used libraries in data science\n",
    "* The most used open source tools in data science"
   ]
  },
  {
   "cell_type": "markdown",
   "id": "0ae1ef52-a168-49bf-be64-28fec2441350",
   "metadata": {},
   "source": [
    "Some of the popular languages that Data Scientists use are:\n",
    "1. Python\n",
    "2. R\n",
    "3. SQL\n",
    "4. Julia\n",
    "5. Scala"
   ]
  },
  {
   "cell_type": "markdown",
   "id": "6adf800f-d1f5-4cd4-999b-e6b3983b5aa4",
   "metadata": {},
   "source": [
    "Some of the commonly used libraries used by Data Scientists include:\n",
    "1. Pandas\n",
    "2. NumPy\n",
    "3. Matplotlib\n",
    "4. Seaborn\n",
    "5. Scikit-learn\n",
    "6. Keras\n",
    "7. TensorFlow"
   ]
  },
  {
   "cell_type": "markdown",
   "id": "50834f3c-4bdb-4734-9520-57c2509467ea",
   "metadata": {},
   "source": [
    "| Data Science Tools |\n",
    "|--------------------|\n",
    "| Jupyter Notebooks  |\n",
    "| RStudio            |\n",
    "| Apache Spark       |\n"
   ]
  },
  {
   "cell_type": "markdown",
   "id": "7a03a2f7-cc5e-45af-8f04-13f364fa8b65",
   "metadata": {},
   "source": [
    "### Below are a few examples of evaluating arithmetic expressions in Python"
   ]
  },
  {
   "cell_type": "markdown",
   "id": "06b068c0-7822-456e-b75d-728db5cfbfc9",
   "metadata": {},
   "source": [
    "This a simple arithmetic expression to mutiply then add integers."
   ]
  },
  {
   "cell_type": "code",
   "execution_count": 1,
   "id": "fbb69aef-a915-4ed8-bc9d-43d1812c6698",
   "metadata": {
    "tags": []
   },
   "outputs": [
    {
     "data": {
      "text/plain": [
       "17"
      ]
     },
     "execution_count": 1,
     "metadata": {},
     "output_type": "execute_result"
    }
   ],
   "source": [
    "(3*4)+5"
   ]
  },
  {
   "cell_type": "markdown",
   "id": "e6b48856-1fae-41b0-994f-8eb840912893",
   "metadata": {},
   "source": [
    "This will convert 200 minutes to hours by diving by 60.\n"
   ]
  },
  {
   "cell_type": "code",
   "execution_count": 2,
   "id": "00cde1ef-79d7-4b89-9fa7-d6ee5dba8287",
   "metadata": {
    "tags": []
   },
   "outputs": [
    {
     "data": {
      "text/plain": [
       "3.3333333333333335"
      ]
     },
     "execution_count": 2,
     "metadata": {},
     "output_type": "execute_result"
    }
   ],
   "source": [
    "200/60"
   ]
  },
  {
   "cell_type": "code",
   "execution_count": null,
   "id": "7651b71b-cc26-4f6a-afa2-6742308da72e",
   "metadata": {},
   "outputs": [],
   "source": []
  }
 ],
 "metadata": {
  "kernelspec": {
   "display_name": "Python",
   "language": "python",
   "name": "conda-env-python-py"
  },
  "language_info": {
   "codemirror_mode": {
    "name": "ipython",
    "version": 3
   },
   "file_extension": ".py",
   "mimetype": "text/x-python",
   "name": "python",
   "nbconvert_exporter": "python",
   "pygments_lexer": "ipython3",
   "version": "3.7.12"
  }
 },
 "nbformat": 4,
 "nbformat_minor": 5
}
